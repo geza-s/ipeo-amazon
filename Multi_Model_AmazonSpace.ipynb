{
 "cells": [
  {
   "cell_type": "code",
   "execution_count": 1,
   "metadata": {
    "collapsed": false,
    "jupyter": {
     "outputs_hidden": false
    }
   },
   "outputs": [],
   "source": [
    "import os\n",
    "import torch\n",
    "import pandas as pd\n",
    "from skimage.io import imread\n",
    "import numpy as np\n",
    "import matplotlib.pyplot as plt\n",
    "\n",
    "# import torchvision.transforms.functional\n",
    "# import torchvision.transforms.functional as F\n",
    "\n",
    "from torch.utils.data import Dataset, DataLoader\n",
    "from torchvision import transforms\n",
    "import torch.nn as nn\n",
    "\n",
    "from torchinfo import summary\n",
    "from tqdm import tqdm"
   ]
  },
  {
   "cell_type": "markdown",
   "source": [
    "# Planet : Amazon space -- Full model running for multilabel classification\n",
    "\n",
    "!! This is supposed to become the main jupyternotebook to run the multilabel classification and testing !!\n",
    "\n",
    "Usefull links:\n",
    "<https://learnopencv.com/multi-label-image-classification-with-pytorch-image-tagging/>"
   ],
   "metadata": {
    "collapsed": false
   }
  },
  {
   "cell_type": "markdown",
   "source": [
    "## 0) Initialization\n",
    "### 0.1) Getting Module and Functions"
   ],
   "metadata": {
    "collapsed": false
   }
  },
  {
   "cell_type": "code",
   "execution_count": 2,
   "outputs": [],
   "source": [
    "from Multi_Model_Amazon_Engine import train_dual, batch_prediction_dual\n",
    "from Multi_Model_Amazon_Module import AmazonSpaceDual, GroundCNN, CloudCNN, AdjustSaturation"
   ],
   "metadata": {
    "collapsed": false
   }
  },
  {
   "cell_type": "code",
   "execution_count": 3,
   "outputs": [],
   "source": [
    "data_folder = '../IPEO_Planet_project'\n",
    "if not os.path.exists(data_folder):\n",
    "    data_folder = input(\"Enter the data folder path: \")\n",
    "    assert os.path.exists(data_folder), \"I did not find the folder at, \"+str(data_folder)"
   ],
   "metadata": {
    "collapsed": false
   }
  },
  {
   "cell_type": "markdown",
   "source": [
    "## 1) Putting the model on the gpu"
   ],
   "metadata": {
    "collapsed": false
   }
  },
  {
   "cell_type": "code",
   "execution_count": 4,
   "outputs": [
    {
     "name": "stdout",
     "output_type": "stream",
     "text": [
      "Using cuda device\n"
     ]
    }
   ],
   "source": [
    "device = \"cuda\" if torch.cuda.is_available() else \"cpu\"\n",
    "print(\"Using {} device\".format(device))"
   ],
   "metadata": {
    "collapsed": false
   }
  },
  {
   "cell_type": "code",
   "execution_count": 5,
   "outputs": [],
   "source": [
    "ground_model = GroundCNN().to(device)\n",
    "cloud_model = CloudCNN().to(device)"
   ],
   "metadata": {
    "collapsed": false
   }
  },
  {
   "cell_type": "markdown",
   "source": [
    "### + Load previously trained model"
   ],
   "metadata": {
    "collapsed": false
   }
  },
  {
   "cell_type": "code",
   "execution_count": 6,
   "outputs": [
    {
     "name": "stdout",
     "output_type": "stream",
     "text": [
      "Did not find ground pretrained model file\n",
      "Did not find cloud pretrained model file\n"
     ]
    }
   ],
   "source": [
    "if not os.path.exists('ground_model_multilabel_classification.pth'):\n",
    "    print('Did not find ground pretrained model file')\n",
    "if not os.path.exists('cloud_model_classification.pth'):\n",
    "    print('Did not find cloud pretrained model file')\n",
    "else:\n",
    "    if device==\"cpu\":\n",
    "        ground_model.load_state_dict(torch.load('ground_model_multilabel_classification.pth', map_location=torch.device('cpu')))\n",
    "        cloud_model.load_state_dict(torch.load('cloud_model_classification.pth', map_location=torch.device('cpu')))\n",
    "    else:\n",
    "        ground_model.load_state_dict(torch.load('ground_model_multilabel_classification.pth'))\n",
    "        cloud_model.load_state_dict(torch.load('cloud_model_classification.pth'))"
   ],
   "metadata": {
    "collapsed": false
   }
  },
  {
   "cell_type": "code",
   "execution_count": 7,
   "outputs": [
    {
     "data": {
      "text/plain": "GroundCNN(\n  (conv1): Conv2d(3, 10, kernel_size=(5, 5), stride=(1, 1))\n  (pool_max): MaxPool2d(kernel_size=2, stride=2, padding=0, dilation=1, ceil_mode=False)\n  (conv2): Conv2d(10, 20, kernel_size=(5, 5), stride=(1, 1))\n  (pool_avg): AvgPool2d(kernel_size=4, stride=4, padding=0)\n  (fc): Linear(in_features=14580, out_features=14, bias=True)\n  (batchNorm): BatchNorm2d(3, eps=1e-05, momentum=0.1, affine=True, track_running_stats=True)\n  (loss): BCELoss()\n)"
     },
     "execution_count": 7,
     "metadata": {},
     "output_type": "execute_result"
    }
   ],
   "source": [
    "ground_model.eval()"
   ],
   "metadata": {
    "collapsed": false
   }
  },
  {
   "cell_type": "code",
   "execution_count": 8,
   "outputs": [
    {
     "data": {
      "text/plain": "CloudCNN(\n  (conv1): Conv2d(3, 10, kernel_size=(10, 10), stride=(1, 1))\n  (pool_max): MaxPool2d(kernel_size=4, stride=4, padding=0, dilation=1, ceil_mode=False)\n  (conv2): Conv2d(10, 20, kernel_size=(5, 5), stride=(1, 1))\n  (pool_avg): AvgPool2d(kernel_size=2, stride=2, padding=0)\n  (fc): Linear(in_features=13520, out_features=3, bias=True)\n  (batchNorm): BatchNorm2d(3, eps=1e-05, momentum=0.1, affine=True, track_running_stats=True)\n  (sig): Sigmoid()\n  (dropped): Dropout(p=0.1, inplace=False)\n  (smax): Softmax(dim=1)\n)"
     },
     "execution_count": 8,
     "metadata": {},
     "output_type": "execute_result"
    }
   ],
   "source": [
    "cloud_model.eval()"
   ],
   "metadata": {
    "collapsed": false
   }
  },
  {
   "cell_type": "markdown",
   "source": [
    "## 2) Getting the different datasets"
   ],
   "metadata": {
    "collapsed": false
   }
  },
  {
   "cell_type": "code",
   "execution_count": 9,
   "outputs": [],
   "source": [
    "train_csv = 'training.csv'\n",
    "validation_csv = 'validation.csv'\n",
    "test_csv = 'test.csv'"
   ],
   "metadata": {
    "collapsed": false
   }
  },
  {
   "cell_type": "code",
   "execution_count": 10,
   "outputs": [],
   "source": [
    "Transform_choice = transforms.Compose([transforms.ToTensor(), transforms.CenterCrop(256),transforms.RandomAutocontrast(p=1), AdjustSaturation(1.2)])"
   ],
   "metadata": {
    "collapsed": false
   }
  },
  {
   "cell_type": "code",
   "execution_count": 11,
   "outputs": [],
   "source": [
    "train_dataset = AmazonSpaceDual(csv_file=train_csv,\n",
    "                                    root_dir=f'{data_folder}/train-jpg', transform=Transform_choice)\n",
    "validation_dataset = AmazonSpaceDual(csv_file=validation_csv,\n",
    "                                    root_dir=f'{data_folder}/train-jpg', transform=Transform_choice)\n",
    "test_dataset = AmazonSpaceDual(csv_file=test_csv,\n",
    "                                    root_dir=f'{data_folder}/train-jpg', transform=Transform_choice)"
   ],
   "metadata": {
    "collapsed": false
   }
  },
  {
   "cell_type": "markdown",
   "source": [
    "## 3) Wrapping into the different dataloaders"
   ],
   "metadata": {
    "collapsed": false
   }
  },
  {
   "cell_type": "code",
   "execution_count": 12,
   "outputs": [],
   "source": [
    "batch_size = 128\n",
    "train_dataloader = DataLoader(train_dataset, batch_size=batch_size,drop_last = True)\n",
    "validation_dataloader = DataLoader(validation_dataset, batch_size=batch_size,drop_last = True)\n",
    "test_dataloader = DataLoader(test_dataset, batch_size=batch_size, drop_last=True)"
   ],
   "metadata": {
    "collapsed": false
   }
  },
  {
   "cell_type": "markdown",
   "source": [
    "## 4) Choice of Criterion and Opitimizer"
   ],
   "metadata": {
    "collapsed": false
   }
  },
  {
   "cell_type": "code",
   "execution_count": 13,
   "outputs": [],
   "source": [
    "learning_rate = 0.01\n",
    "\n",
    "ground_crit = nn.BCEWithLogitsLoss()\n",
    "cloud_crit = nn.BCELoss()\n",
    "\n",
    "ground_optim = torch.optim.Adam(ground_model.parameters(), lr=learning_rate)\n",
    "cloud_optim = torch.optim.Adam(cloud_model.parameters(), lr=learning_rate)"
   ],
   "metadata": {
    "collapsed": false
   }
  },
  {
   "cell_type": "markdown",
   "source": [
    "## 5) TRAINING"
   ],
   "metadata": {
    "collapsed": false
   }
  },
  {
   "cell_type": "code",
   "execution_count": 14,
   "outputs": [
    {
     "name": "stdout",
     "output_type": "stream",
     "text": [
      "Training\n"
     ]
    },
    {
     "name": "stderr",
     "output_type": "stream",
     "text": [
      "1it [00:05,  5.34s/it]"
     ]
    },
    {
     "name": "stdout",
     "output_type": "stream",
     "text": [
      "torch.Size([128, 3, 256, 256])\n",
      "(128, 17) (128, 17)\n",
      "iter:  0 training:micro f1: 0.371macro f1: 0.104 samples f1: 0.370\n"
     ]
    },
    {
     "name": "stderr",
     "output_type": "stream",
     "text": [
      "21it [00:42,  1.89s/it]"
     ]
    },
    {
     "name": "stdout",
     "output_type": "stream",
     "text": [
      "iter: 20 training:micro f1: 1.000macro f1: 0.118 samples f1: 1.000\n"
     ]
    },
    {
     "name": "stderr",
     "output_type": "stream",
     "text": [
      "41it [01:18,  1.76s/it]"
     ]
    },
    {
     "name": "stdout",
     "output_type": "stream",
     "text": [
      "iter: 40 training:micro f1: 1.000macro f1: 0.118 samples f1: 1.000\n"
     ]
    },
    {
     "name": "stderr",
     "output_type": "stream",
     "text": [
      "61it [01:54,  1.82s/it]"
     ]
    },
    {
     "name": "stdout",
     "output_type": "stream",
     "text": [
      "iter: 60 training:micro f1: 1.000macro f1: 0.118 samples f1: 1.000\n"
     ]
    },
    {
     "name": "stderr",
     "output_type": "stream",
     "text": [
      "81it [02:31,  1.87s/it]"
     ]
    },
    {
     "name": "stdout",
     "output_type": "stream",
     "text": [
      "iter: 80 training:micro f1: 0.470macro f1: 0.056 samples f1: 0.461\n"
     ]
    },
    {
     "name": "stderr",
     "output_type": "stream",
     "text": [
      "101it [03:07,  1.82s/it]"
     ]
    },
    {
     "name": "stdout",
     "output_type": "stream",
     "text": [
      "iter:100 training:micro f1: 0.333macro f1: 0.059 samples f1: 0.333\n"
     ]
    },
    {
     "name": "stderr",
     "output_type": "stream",
     "text": [
      "121it [03:43,  1.84s/it]"
     ]
    },
    {
     "name": "stdout",
     "output_type": "stream",
     "text": [
      "iter:120 training:micro f1: 0.500macro f1: 0.059 samples f1: 0.500\n"
     ]
    },
    {
     "name": "stderr",
     "output_type": "stream",
     "text": [
      "141it [04:20,  1.84s/it]"
     ]
    },
    {
     "name": "stdout",
     "output_type": "stream",
     "text": [
      "iter:140 training:micro f1: 0.333macro f1: 0.059 samples f1: 0.333\n"
     ]
    },
    {
     "name": "stderr",
     "output_type": "stream",
     "text": [
      "161it [04:58,  1.86s/it]"
     ]
    },
    {
     "name": "stdout",
     "output_type": "stream",
     "text": [
      "iter:160 training:micro f1: 0.724macro f1: 0.163 samples f1: 0.718\n"
     ]
    },
    {
     "name": "stderr",
     "output_type": "stream",
     "text": [
      "181it [05:36,  1.90s/it]"
     ]
    },
    {
     "name": "stdout",
     "output_type": "stream",
     "text": [
      "iter:180 training:micro f1: 0.526macro f1: 0.138 samples f1: 0.519\n"
     ]
    },
    {
     "name": "stderr",
     "output_type": "stream",
     "text": [
      "187it [05:47,  1.86s/it]\n"
     ]
    },
    {
     "name": "stdout",
     "output_type": "stream",
     "text": [
      "Validating\n"
     ]
    },
    {
     "name": "stderr",
     "output_type": "stream",
     "text": [
      "62it [01:22,  1.33s/it]\n"
     ]
    },
    {
     "ename": "TypeError",
     "evalue": "can't convert cuda:0 device type tensor to numpy. Use Tensor.cpu() to copy the tensor to host memory first.",
     "output_type": "error",
     "traceback": [
      "\u001B[1;31m---------------------------------------------------------------------------\u001B[0m",
      "\u001B[1;31mTypeError\u001B[0m                                 Traceback (most recent call last)",
      "Cell \u001B[1;32mIn [14], line 3\u001B[0m\n\u001B[0;32m      1\u001B[0m epochs_number \u001B[38;5;241m=\u001B[39m \u001B[38;5;241m2\u001B[39m\n\u001B[1;32m----> 3\u001B[0m The_results \u001B[38;5;241m=\u001B[39m \u001B[43mtrain_dual\u001B[49m\u001B[43m(\u001B[49m\u001B[43mground_model\u001B[49m\u001B[43m,\u001B[49m\u001B[43mcloud_model\u001B[49m\u001B[43m,\u001B[49m\u001B[43m \u001B[49m\u001B[43mtrain_dataloader\u001B[49m\u001B[43m,\u001B[49m\u001B[43m \u001B[49m\u001B[43mvalidation_dataloader\u001B[49m\u001B[43m,\u001B[49m\u001B[43m \u001B[49m\u001B[43mdevice\u001B[49m\u001B[38;5;241;43m=\u001B[39;49m\u001B[43mdevice\u001B[49m\u001B[43m,\u001B[49m\u001B[43m \u001B[49m\u001B[43mground_optimizer\u001B[49m\u001B[38;5;241;43m=\u001B[39;49m\u001B[43m \u001B[49m\u001B[43mground_optim\u001B[49m\u001B[43m,\u001B[49m\u001B[43m \u001B[49m\u001B[43mcloud_optimizer\u001B[49m\u001B[38;5;241;43m=\u001B[39;49m\u001B[43mcloud_optim\u001B[49m\u001B[43m,\u001B[49m\u001B[43m \u001B[49m\u001B[43mlr\u001B[49m\u001B[43m \u001B[49m\u001B[38;5;241;43m=\u001B[39;49m\u001B[43m \u001B[49m\u001B[43mlearning_rate\u001B[49m\u001B[43m,\u001B[49m\u001B[43m \u001B[49m\u001B[43mepochs\u001B[49m\u001B[38;5;241;43m=\u001B[39;49m\u001B[43mepochs_number\u001B[49m\u001B[43m,\u001B[49m\u001B[43m \u001B[49m\u001B[43mground_loss_fn\u001B[49m\u001B[38;5;241;43m=\u001B[39;49m\u001B[43m \u001B[49m\u001B[43mground_crit\u001B[49m\u001B[43m,\u001B[49m\u001B[43m \u001B[49m\u001B[43mcloud_loss_fn\u001B[49m\u001B[38;5;241;43m=\u001B[39;49m\u001B[43mcloud_crit\u001B[49m\u001B[43m)\u001B[49m\n",
      "File \u001B[1;32mD:\\gezas\\Documents\\EPFL-MA\\IPEO-projet\\Multi_Model_Amazon_Engine.py:270\u001B[0m, in \u001B[0;36mtrain_dual\u001B[1;34m(ground_model, cloud_model, train_loader, validation_dataloader, device, ground_optimizer, cloud_optimizer, lr, epochs, ground_loss_fn, cloud_loss_fn)\u001B[0m\n\u001B[0;32m    263\u001B[0m     val_metrics \u001B[38;5;241m=\u001B[39m validate_dual(ground_model, cloud_model, validation_dataloader,\n\u001B[0;32m    264\u001B[0m                                                    ground_loss_fn\u001B[38;5;241m=\u001B[39mground_loss_fn,\n\u001B[0;32m    265\u001B[0m                                                    cloud_loss_fn\u001B[38;5;241m=\u001B[39mcloud_loss_fn, device\u001B[38;5;241m=\u001B[39mdevice)\n\u001B[0;32m    267\u001B[0m     \u001B[38;5;66;03m# print(f\"Epoch {ep:2}, Train acc={ta:.3f}, Val acc={va:.3f}, Train loss={tl:.3f}, Val loss={vl:.3f}\")\u001B[39;00m\n\u001B[0;32m    268\u001B[0m \n\u001B[0;32m    269\u001B[0m     \u001B[38;5;66;03m# Append all the metrics\u001B[39;00m\n\u001B[1;32m--> 270\u001B[0m     \u001B[43mappend_mean_metrics\u001B[49m\u001B[43m(\u001B[49m\u001B[43moverall_metrics\u001B[49m\u001B[43m[\u001B[49m\u001B[38;5;124;43m'\u001B[39;49m\u001B[38;5;124;43mtraining\u001B[39;49m\u001B[38;5;124;43m'\u001B[39;49m\u001B[43m]\u001B[49m\u001B[43m,\u001B[49m\u001B[43m \u001B[49m\u001B[43mepoch_metrics\u001B[49m\u001B[43m)\u001B[49m\n\u001B[0;32m    271\u001B[0m     append_mean_metrics(overall_metrics[\u001B[38;5;124m'\u001B[39m\u001B[38;5;124mvalidating\u001B[39m\u001B[38;5;124m'\u001B[39m], val_metrics)\n\u001B[0;32m    273\u001B[0m \u001B[38;5;28;01mreturn\u001B[39;00m overall_metrics\n",
      "File \u001B[1;32mD:\\gezas\\Documents\\EPFL-MA\\IPEO-projet\\Multi_Model_Amazon_Engine.py:57\u001B[0m, in \u001B[0;36mappend_mean_metrics\u001B[1;34m(all_metrics_dict, batch_metrics)\u001B[0m\n\u001B[0;32m     55\u001B[0m \u001B[38;5;28;01mfor\u001B[39;00m key \u001B[38;5;129;01min\u001B[39;00m batch_metrics\u001B[38;5;241m.\u001B[39mkeys():\n\u001B[0;32m     56\u001B[0m     overall_metric_list \u001B[38;5;241m=\u001B[39m all_metrics_dict[key]\n\u001B[1;32m---> 57\u001B[0m     overall_metric_list\u001B[38;5;241m.\u001B[39mappend(\u001B[43mnp\u001B[49m\u001B[38;5;241;43m.\u001B[39;49m\u001B[43mmean\u001B[49m\u001B[43m(\u001B[49m\u001B[43mbatch_metrics\u001B[49m\u001B[43m[\u001B[49m\u001B[43mkey\u001B[49m\u001B[43m]\u001B[49m\u001B[43m)\u001B[49m)\n\u001B[0;32m     58\u001B[0m     all_metrics_dict[key] \u001B[38;5;241m=\u001B[39m overall_metric_list\n\u001B[0;32m     59\u001B[0m \u001B[38;5;28;01mreturn\u001B[39;00m all_metrics_dict\n",
      "File \u001B[1;32m<__array_function__ internals>:180\u001B[0m, in \u001B[0;36mmean\u001B[1;34m(*args, **kwargs)\u001B[0m\n",
      "File \u001B[1;32m~\\.conda\\envs\\IPEO_gpu\\lib\\site-packages\\numpy\\core\\fromnumeric.py:3432\u001B[0m, in \u001B[0;36mmean\u001B[1;34m(a, axis, dtype, out, keepdims, where)\u001B[0m\n\u001B[0;32m   3429\u001B[0m     \u001B[38;5;28;01melse\u001B[39;00m:\n\u001B[0;32m   3430\u001B[0m         \u001B[38;5;28;01mreturn\u001B[39;00m mean(axis\u001B[38;5;241m=\u001B[39maxis, dtype\u001B[38;5;241m=\u001B[39mdtype, out\u001B[38;5;241m=\u001B[39mout, \u001B[38;5;241m*\u001B[39m\u001B[38;5;241m*\u001B[39mkwargs)\n\u001B[1;32m-> 3432\u001B[0m \u001B[38;5;28;01mreturn\u001B[39;00m _methods\u001B[38;5;241m.\u001B[39m_mean(a, axis\u001B[38;5;241m=\u001B[39maxis, dtype\u001B[38;5;241m=\u001B[39mdtype,\n\u001B[0;32m   3433\u001B[0m                       out\u001B[38;5;241m=\u001B[39mout, \u001B[38;5;241m*\u001B[39m\u001B[38;5;241m*\u001B[39mkwargs)\n",
      "File \u001B[1;32m~\\.conda\\envs\\IPEO_gpu\\lib\\site-packages\\numpy\\core\\_methods.py:164\u001B[0m, in \u001B[0;36m_mean\u001B[1;34m(a, axis, dtype, out, keepdims, where)\u001B[0m\n\u001B[0;32m    163\u001B[0m \u001B[38;5;28;01mdef\u001B[39;00m \u001B[38;5;21m_mean\u001B[39m(a, axis\u001B[38;5;241m=\u001B[39m\u001B[38;5;28;01mNone\u001B[39;00m, dtype\u001B[38;5;241m=\u001B[39m\u001B[38;5;28;01mNone\u001B[39;00m, out\u001B[38;5;241m=\u001B[39m\u001B[38;5;28;01mNone\u001B[39;00m, keepdims\u001B[38;5;241m=\u001B[39m\u001B[38;5;28;01mFalse\u001B[39;00m, \u001B[38;5;241m*\u001B[39m, where\u001B[38;5;241m=\u001B[39m\u001B[38;5;28;01mTrue\u001B[39;00m):\n\u001B[1;32m--> 164\u001B[0m     arr \u001B[38;5;241m=\u001B[39m \u001B[43masanyarray\u001B[49m\u001B[43m(\u001B[49m\u001B[43ma\u001B[49m\u001B[43m)\u001B[49m\n\u001B[0;32m    166\u001B[0m     is_float16_result \u001B[38;5;241m=\u001B[39m \u001B[38;5;28;01mFalse\u001B[39;00m\n\u001B[0;32m    168\u001B[0m     rcount \u001B[38;5;241m=\u001B[39m _count_reduce_items(arr, axis, keepdims\u001B[38;5;241m=\u001B[39mkeepdims, where\u001B[38;5;241m=\u001B[39mwhere)\n",
      "File \u001B[1;32m~\\.conda\\envs\\IPEO_gpu\\lib\\site-packages\\torch\\_tensor.py:955\u001B[0m, in \u001B[0;36mTensor.__array__\u001B[1;34m(self, dtype)\u001B[0m\n\u001B[0;32m    953\u001B[0m     \u001B[38;5;28;01mreturn\u001B[39;00m handle_torch_function(Tensor\u001B[38;5;241m.\u001B[39m__array__, (\u001B[38;5;28mself\u001B[39m,), \u001B[38;5;28mself\u001B[39m, dtype\u001B[38;5;241m=\u001B[39mdtype)\n\u001B[0;32m    954\u001B[0m \u001B[38;5;28;01mif\u001B[39;00m dtype \u001B[38;5;129;01mis\u001B[39;00m \u001B[38;5;28;01mNone\u001B[39;00m:\n\u001B[1;32m--> 955\u001B[0m     \u001B[38;5;28;01mreturn\u001B[39;00m \u001B[38;5;28;43mself\u001B[39;49m\u001B[38;5;241;43m.\u001B[39;49m\u001B[43mnumpy\u001B[49m\u001B[43m(\u001B[49m\u001B[43m)\u001B[49m\n\u001B[0;32m    956\u001B[0m \u001B[38;5;28;01melse\u001B[39;00m:\n\u001B[0;32m    957\u001B[0m     \u001B[38;5;28;01mreturn\u001B[39;00m \u001B[38;5;28mself\u001B[39m\u001B[38;5;241m.\u001B[39mnumpy()\u001B[38;5;241m.\u001B[39mastype(dtype, copy\u001B[38;5;241m=\u001B[39m\u001B[38;5;28;01mFalse\u001B[39;00m)\n",
      "\u001B[1;31mTypeError\u001B[0m: can't convert cuda:0 device type tensor to numpy. Use Tensor.cpu() to copy the tensor to host memory first."
     ]
    }
   ],
   "source": [
    "epochs_number = 2\n",
    "\n",
    "The_results = train_dual(ground_model,cloud_model, train_dataloader, validation_dataloader, device=device, ground_optimizer= ground_optim, cloud_optimizer=cloud_optim, lr = learning_rate, epochs=epochs_number, ground_loss_fn= ground_crit, cloud_loss_fn=cloud_crit)"
   ],
   "metadata": {
    "collapsed": false
   }
  },
  {
   "cell_type": "markdown",
   "source": [
    "## 5b) Saving the results into a Json file"
   ],
   "metadata": {
    "collapsed": false
   }
  },
  {
   "cell_type": "code",
   "execution_count": 16,
   "outputs": [],
   "source": [
    "import json\n",
    "\n",
    "# create json object from dictionary\n",
    "js = json.dumps(The_results)\n",
    "\n",
    "# open file for writing, \"w\"\n",
    "name = f\"dual_training_results_{epochs_number}epochs_{batch_size}batchsize_{learning_rate}lr_{ground_crit}_{cloud_crit}_crit_{str(ground_optim).split()[0]} _and_{str(ground_optim).split()[0]}_optim.json\"\n",
    "f = open(name,\"a\")\n",
    "\n",
    "# write json object to file\n",
    "f.write(js)\n",
    "\n",
    "# close file\n",
    "f.close()"
   ],
   "metadata": {
    "collapsed": false
   }
  },
  {
   "cell_type": "markdown",
   "source": [
    "## 5c) Plotting the training phases metrics"
   ],
   "metadata": {
    "collapsed": false
   }
  },
  {
   "cell_type": "code",
   "execution_count": null,
   "outputs": [],
   "source": [
    "plt.figure()\n",
    "plt.plot(np.array(The_results['training']['total_loss']))\n",
    "plt.title('Training: measured loss evolution')\n",
    "plt.show()"
   ],
   "metadata": {
    "collapsed": false
   }
  },
  {
   "cell_type": "code",
   "execution_count": null,
   "outputs": [],
   "source": [
    "plt.figure()\n",
    "plt.plot(np.array(The_results['training']['macro/f1']))\n",
    "plt.plot(np.array(The_results['training']['macro/precision']))\n",
    "plt.plot(np.array(The_results['training']['macro/recall']))\n",
    "plt.legend(['Average accuracy scores', 'Average precision score', 'Average recall score'])\n",
    "plt.title('Training: macro average metrics')\n",
    "plt.show()"
   ],
   "metadata": {
    "collapsed": false
   }
  },
  {
   "cell_type": "code",
   "execution_count": 17,
   "outputs": [
    {
     "data": {
      "text/plain": "<Figure size 640x480 with 1 Axes>",
      "image/png": "[encoded data removed]"
     },
     "metadata": {},
     "output_type": "display_data"
    }
   ],
   "source": [
    "plt.figure()\n",
    "plt.plot(np.array(The_results['train_acc_scores']).mean(axis=1))\n",
    "plt.plot(np.array(The_results['train_prec_scores']).mean(axis=1))\n",
    "plt.plot(np.array(The_results['train_rec_scores']).mean(axis=1))\n",
    "plt.legend(['Average accuracy scores', 'Average precision score', 'Average recall score'])\n",
    "plt.title('Training metrics')\n",
    "plt.show()"
   ],
   "metadata": {
    "collapsed": false
   }
  },
  {
   "cell_type": "code",
   "execution_count": 41,
   "outputs": [
    {
     "data": {
      "text/plain": "<Figure size 640x480 with 1 Axes>",
      "image/png": "[encoded data removed]"
     },
     "metadata": {},
     "output_type": "display_data"
    }
   ],
   "source": [
    "plt.figure()\n",
    "plt.plot(np.array(The_results['training']['hamming_loss']), label='Training')\n",
    "plt.plot(np.array(The_results['validation']['hamming_loss']), label='Validation')\n",
    "plt.legend()\n",
    "plt.title('Average Hamming distance')\n",
    "plt.show()"
   ],
   "metadata": {
    "collapsed": false
   }
  },
  {
   "cell_type": "markdown",
   "source": [
    "## 6) TESTING"
   ],
   "metadata": {
    "collapsed": false
   }
  },
  {
   "cell_type": "code",
   "execution_count": 42,
   "outputs": [
    {
     "name": "stderr",
     "output_type": "stream",
     "text": [
      "100%|██████████| 65/65 [02:18<00:00,  2.13s/it]"
     ]
    },
    {
     "name": "stdout",
     "output_type": "stream",
     "text": [
      "valloss 0.27, val accuracy 90.25\n"
     ]
    },
    {
     "name": "stderr",
     "output_type": "stream",
     "text": [
      "\n"
     ]
    }
   ],
   "source": [
    "# store stats\n",
    "losses, accuracies = [], []\n",
    "count = 0\n",
    "for batch in tqdm(test_dataloader):\n",
    "    # TODO run prediction_step\n",
    "    loss, accuracy, predictions = batch_prediction(batch, model, device = 'cuda')\n",
    "\n",
    "    # append to stats\n",
    "    losses.append(loss)\n",
    "    accuracies.append(accuracy)\n",
    "    if count == 0:\n",
    "        all_pred = predictions\n",
    "        count = 1\n",
    "    else :\n",
    "        all_pred = np.vstack((all_pred,predictions))\n",
    "# average val losses and accuracies over batches\n",
    "losses, accuracies = np.stack(losses).mean(), np.stack(accuracies).mean()\n",
    "print(f\"valloss {losses:.2f}, val accuracy {accuracies*100:.2f}%\")"
   ],
   "metadata": {
    "collapsed": false
   }
  },
  {
   "cell_type": "code",
   "execution_count": 36,
   "outputs": [
    {
     "data": {
      "text/plain": "array([[0.       , 1.       , 1.       , ..., 1.       , 1.       ,\n        1.       ],\n       [0.       , 1.       , 1.       , ..., 1.       , 1.       ,\n        1.       ],\n       [0.       , 1.       , 1.       , ..., 1.       , 1.       ,\n        1.       ],\n       ...,\n       [0.3828125, 0.8359375, 0.75     , ..., 0.984375 , 0.90625  ,\n        0.9375   ],\n       [0.3984375, 0.84375  , 0.75     , ..., 0.953125 , 0.859375 ,\n        0.9296875],\n       [0.3984375, 0.84375  , 0.7265625, ..., 0.9140625, 0.8984375,\n        0.8125   ]])"
     },
     "execution_count": 36,
     "metadata": {},
     "output_type": "execute_result"
    }
   ],
   "source": [
    "all_pred"
   ],
   "metadata": {
    "collapsed": false
   }
  },
  {
   "cell_type": "code",
   "execution_count": 45,
   "outputs": [
    {
     "data": {
      "text/plain": "<Figure size 640x480 with 1 Axes>",
      "image/png": "[encoded data removed]"
     },
     "metadata": {},
     "output_type": "display_data"
    }
   ],
   "source": [
    "mean_pred = np.stack(all_pred, axis = 0).mean(axis=0)\n",
    "plt.figure()\n",
    "plt.bar(x = range(17), height=mean_pred)\n",
    "plt.xticks(range(17))\n",
    "plt.title(\"Accuracy of each class\")\n",
    "plt.show()"
   ],
   "metadata": {
    "collapsed": false
   }
  },
  {
   "cell_type": "markdown",
   "source": [
    "# Saving Models"
   ],
   "metadata": {
    "collapsed": false
   }
  },
  {
   "cell_type": "code",
   "execution_count": 46,
   "outputs": [
    {
     "name": "stdout",
     "output_type": "stream",
     "text": [
      "Saved PyTorch Model State to model_multilabel_classification.pth\n"
     ]
    }
   ],
   "source": [
    "torch.save(model.state_dict(), \"model_multilabel_classification.pth\")\n",
    "print(\"Saved PyTorch Model State to model_multilabel_classification.pth\")"
   ],
   "metadata": {
    "collapsed": false
   }
  }
 ],
 "metadata": {
  "kernelspec": {
   "display_name": "Python 3 (ipykernel)",
   "language": "python",
   "name": "python3"
  },
  "language_info": {
   "codemirror_mode": {
    "name": "ipython",
    "version": 3
   },
   "file_extension": ".py",
   "mimetype": "text/x-python",
   "name": "python",
   "nbconvert_exporter": "python",
   "pygments_lexer": "ipython3",
   "version": "3.7.13"
  }
 },
 "nbformat": 4,
 "nbformat_minor": 4
}
