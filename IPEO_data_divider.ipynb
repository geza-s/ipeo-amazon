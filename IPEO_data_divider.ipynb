{
 "cells": [
  {
   "cell_type": "markdown",
   "source": [
    "# Planet : Amazon space"
   ],
   "metadata": {
    "collapsed": false
   }
  },
  {
   "cell_type": "code",
   "execution_count": 1,
   "metadata": {
    "collapsed": true
   },
   "outputs": [],
   "source": [
    "import os\n",
    "import pandas as pd\n",
    "import numpy as np"
   ]
  },
  {
   "cell_type": "code",
   "execution_count": 2,
   "outputs": [],
   "source": [
    "data_folder = '../IPEO_Planet_project'\n",
    "if not os.path.exists(data_folder):\n",
    "    data_folder = input(\"Enter the data folder path: \")\n",
    "    assert os.path.exists(data_folder), \"I did not find the folder at, \"+str(data_folder)"
   ],
   "metadata": {
    "collapsed": false
   }
  },
  {
   "cell_type": "markdown",
   "source": [
    "# Loading the dataset"
   ],
   "metadata": {
    "collapsed": false
   }
  },
  {
   "cell_type": "code",
   "execution_count": 5,
   "outputs": [
    {
     "data": {
      "text/plain": "        image_name                                           tags\n0          train_0                                   haze primary\n1          train_1                agriculture clear primary water\n2          train_2                                  clear primary\n3          train_3                                  clear primary\n4          train_4      agriculture clear habitation primary road\n...            ...                                            ...\n40474  train_40474                                  clear primary\n40475  train_40475                                         cloudy\n40476  train_40476                      agriculture clear primary\n40477  train_40477                 agriculture clear primary road\n40478  train_40478  agriculture cultivation partly_cloudy primary\n\n[40479 rows x 2 columns]",
      "text/html": "<div>\n<style scoped>\n    .dataframe tbody tr th:only-of-type {\n        vertical-align: middle;\n    }\n\n    .dataframe tbody tr th {\n        vertical-align: top;\n    }\n\n    .dataframe thead th {\n        text-align: right;\n    }\n</style>\n<table border=\"1\" class=\"dataframe\">\n  <thead>\n    <tr style=\"text-align: right;\">\n      <th></th>\n      <th>image_name</th>\n      <th>tags</th>\n    </tr>\n  </thead>\n  <tbody>\n    <tr>\n      <th>0</th>\n      <td>train_0</td>\n      <td>haze primary</td>\n    </tr>\n    <tr>\n      <th>1</th>\n      <td>train_1</td>\n      <td>agriculture clear primary water</td>\n    </tr>\n    <tr>\n      <th>2</th>\n      <td>train_2</td>\n      <td>clear primary</td>\n    </tr>\n    <tr>\n      <th>3</th>\n      <td>train_3</td>\n      <td>clear primary</td>\n    </tr>\n    <tr>\n      <th>4</th>\n      <td>train_4</td>\n      <td>agriculture clear habitation primary road</td>\n    </tr>\n    <tr>\n      <th>...</th>\n      <td>...</td>\n      <td>...</td>\n    </tr>\n    <tr>\n      <th>40474</th>\n      <td>train_40474</td>\n      <td>clear primary</td>\n    </tr>\n    <tr>\n      <th>40475</th>\n      <td>train_40475</td>\n      <td>cloudy</td>\n    </tr>\n    <tr>\n      <th>40476</th>\n      <td>train_40476</td>\n      <td>agriculture clear primary</td>\n    </tr>\n    <tr>\n      <th>40477</th>\n      <td>train_40477</td>\n      <td>agriculture clear primary road</td>\n    </tr>\n    <tr>\n      <th>40478</th>\n      <td>train_40478</td>\n      <td>agriculture cultivation partly_cloudy primary</td>\n    </tr>\n  </tbody>\n</table>\n<p>40479 rows × 2 columns</p>\n</div>"
     },
     "execution_count": 5,
     "metadata": {},
     "output_type": "execute_result"
    }
   ],
   "source": [
    "labels_dt = pd.read_csv(f'{data_folder}/train_labels.csv',dtype=str)\n",
    "labels_dt"
   ],
   "metadata": {
    "collapsed": false
   }
  },
  {
   "cell_type": "code",
   "execution_count": 7,
   "outputs": [
    {
     "data": {
      "text/plain": "array(['haze', 'primary', 'agriculture', 'clear', 'water', 'habitation',\n       'road', 'cultivation', 'slash_burn', 'cloudy', 'partly_cloudy',\n       'conventional_mine', 'bare_ground', 'artisinal_mine', 'blooming',\n       'selective_logging', 'blow_down'], dtype=object)"
     },
     "execution_count": 7,
     "metadata": {},
     "output_type": "execute_result"
    }
   ],
   "source": [
    "tags = labels_dt['tags'].str.split(expand=True).stack().unique()\n",
    "tags"
   ],
   "metadata": {
    "collapsed": false
   }
  },
  {
   "cell_type": "code",
   "execution_count": 8,
   "outputs": [
    {
     "data": {
      "text/plain": "        image_name                                           tags  haze  \\\n0          train_0                                   haze primary     1   \n1          train_1                agriculture clear primary water     0   \n2          train_2                                  clear primary     0   \n3          train_3                                  clear primary     0   \n4          train_4      agriculture clear habitation primary road     0   \n...            ...                                            ...   ...   \n40474  train_40474                                  clear primary     0   \n40475  train_40475                                         cloudy     0   \n40476  train_40476                      agriculture clear primary     0   \n40477  train_40477                 agriculture clear primary road     0   \n40478  train_40478  agriculture cultivation partly_cloudy primary     0   \n\n       primary  agriculture  clear  water  habitation  road  cultivation  \\\n0            1            0      0      0           0     0            0   \n1            1            1      1      1           0     0            0   \n2            1            0      1      0           0     0            0   \n3            1            0      1      0           0     0            0   \n4            1            1      1      0           1     1            0   \n...        ...          ...    ...    ...         ...   ...          ...   \n40474        1            0      1      0           0     0            0   \n40475        0            0      0      0           0     0            0   \n40476        1            1      1      0           0     0            0   \n40477        1            1      1      0           0     1            0   \n40478        1            1      0      0           0     0            1   \n\n       slash_burn  cloudy  partly_cloudy  conventional_mine  bare_ground  \\\n0               0       0              0                  0            0   \n1               0       0              0                  0            0   \n2               0       0              0                  0            0   \n3               0       0              0                  0            0   \n4               0       0              0                  0            0   \n...           ...     ...            ...                ...          ...   \n40474           0       0              0                  0            0   \n40475           0       1              0                  0            0   \n40476           0       0              0                  0            0   \n40477           0       0              0                  0            0   \n40478           0       0              1                  0            0   \n\n       artisinal_mine  blooming  selective_logging  blow_down  \n0                   0         0                  0          0  \n1                   0         0                  0          0  \n2                   0         0                  0          0  \n3                   0         0                  0          0  \n4                   0         0                  0          0  \n...               ...       ...                ...        ...  \n40474               0         0                  0          0  \n40475               0         0                  0          0  \n40476               0         0                  0          0  \n40477               0         0                  0          0  \n40478               0         0                  0          0  \n\n[40479 rows x 19 columns]",
      "text/html": "<div>\n<style scoped>\n    .dataframe tbody tr th:only-of-type {\n        vertical-align: middle;\n    }\n\n    .dataframe tbody tr th {\n        vertical-align: top;\n    }\n\n    .dataframe thead th {\n        text-align: right;\n    }\n</style>\n<table border=\"1\" class=\"dataframe\">\n  <thead>\n    <tr style=\"text-align: right;\">\n      <th></th>\n      <th>image_name</th>\n      <th>tags</th>\n      <th>haze</th>\n      <th>primary</th>\n      <th>agriculture</th>\n      <th>clear</th>\n      <th>water</th>\n      <th>habitation</th>\n      <th>road</th>\n      <th>cultivation</th>\n      <th>slash_burn</th>\n      <th>cloudy</th>\n      <th>partly_cloudy</th>\n      <th>conventional_mine</th>\n      <th>bare_ground</th>\n      <th>artisinal_mine</th>\n      <th>blooming</th>\n      <th>selective_logging</th>\n      <th>blow_down</th>\n    </tr>\n  </thead>\n  <tbody>\n    <tr>\n      <th>0</th>\n      <td>train_0</td>\n      <td>haze primary</td>\n      <td>1</td>\n      <td>1</td>\n      <td>0</td>\n      <td>0</td>\n      <td>0</td>\n      <td>0</td>\n      <td>0</td>\n      <td>0</td>\n      <td>0</td>\n      <td>0</td>\n      <td>0</td>\n      <td>0</td>\n      <td>0</td>\n      <td>0</td>\n      <td>0</td>\n      <td>0</td>\n      <td>0</td>\n    </tr>\n    <tr>\n      <th>1</th>\n      <td>train_1</td>\n      <td>agriculture clear primary water</td>\n      <td>0</td>\n      <td>1</td>\n      <td>1</td>\n      <td>1</td>\n      <td>1</td>\n      <td>0</td>\n      <td>0</td>\n      <td>0</td>\n      <td>0</td>\n      <td>0</td>\n      <td>0</td>\n      <td>0</td>\n      <td>0</td>\n      <td>0</td>\n      <td>0</td>\n      <td>0</td>\n      <td>0</td>\n    </tr>\n    <tr>\n      <th>2</th>\n      <td>train_2</td>\n      <td>clear primary</td>\n      <td>0</td>\n      <td>1</td>\n      <td>0</td>\n      <td>1</td>\n      <td>0</td>\n      <td>0</td>\n      <td>0</td>\n      <td>0</td>\n      <td>0</td>\n      <td>0</td>\n      <td>0</td>\n      <td>0</td>\n      <td>0</td>\n      <td>0</td>\n      <td>0</td>\n      <td>0</td>\n      <td>0</td>\n    </tr>\n    <tr>\n      <th>3</th>\n      <td>train_3</td>\n      <td>clear primary</td>\n      <td>0</td>\n      <td>1</td>\n      <td>0</td>\n      <td>1</td>\n      <td>0</td>\n      <td>0</td>\n      <td>0</td>\n      <td>0</td>\n      <td>0</td>\n      <td>0</td>\n      <td>0</td>\n      <td>0</td>\n      <td>0</td>\n      <td>0</td>\n      <td>0</td>\n      <td>0</td>\n      <td>0</td>\n    </tr>\n    <tr>\n      <th>4</th>\n      <td>train_4</td>\n      <td>agriculture clear habitation primary road</td>\n      <td>0</td>\n      <td>1</td>\n      <td>1</td>\n      <td>1</td>\n      <td>0</td>\n      <td>1</td>\n      <td>1</td>\n      <td>0</td>\n      <td>0</td>\n      <td>0</td>\n      <td>0</td>\n      <td>0</td>\n      <td>0</td>\n      <td>0</td>\n      <td>0</td>\n      <td>0</td>\n      <td>0</td>\n    </tr>\n    <tr>\n      <th>...</th>\n      <td>...</td>\n      <td>...</td>\n      <td>...</td>\n      <td>...</td>\n      <td>...</td>\n      <td>...</td>\n      <td>...</td>\n      <td>...</td>\n      <td>...</td>\n      <td>...</td>\n      <td>...</td>\n      <td>...</td>\n      <td>...</td>\n      <td>...</td>\n      <td>...</td>\n      <td>...</td>\n      <td>...</td>\n      <td>...</td>\n      <td>...</td>\n    </tr>\n    <tr>\n      <th>40474</th>\n      <td>train_40474</td>\n      <td>clear primary</td>\n      <td>0</td>\n      <td>1</td>\n      <td>0</td>\n      <td>1</td>\n      <td>0</td>\n      <td>0</td>\n      <td>0</td>\n      <td>0</td>\n      <td>0</td>\n      <td>0</td>\n      <td>0</td>\n      <td>0</td>\n      <td>0</td>\n      <td>0</td>\n      <td>0</td>\n      <td>0</td>\n      <td>0</td>\n    </tr>\n    <tr>\n      <th>40475</th>\n      <td>train_40475</td>\n      <td>cloudy</td>\n      <td>0</td>\n      <td>0</td>\n      <td>0</td>\n      <td>0</td>\n      <td>0</td>\n      <td>0</td>\n      <td>0</td>\n      <td>0</td>\n      <td>0</td>\n      <td>1</td>\n      <td>0</td>\n      <td>0</td>\n      <td>0</td>\n      <td>0</td>\n      <td>0</td>\n      <td>0</td>\n      <td>0</td>\n    </tr>\n    <tr>\n      <th>40476</th>\n      <td>train_40476</td>\n      <td>agriculture clear primary</td>\n      <td>0</td>\n      <td>1</td>\n      <td>1</td>\n      <td>1</td>\n      <td>0</td>\n      <td>0</td>\n      <td>0</td>\n      <td>0</td>\n      <td>0</td>\n      <td>0</td>\n      <td>0</td>\n      <td>0</td>\n      <td>0</td>\n      <td>0</td>\n      <td>0</td>\n      <td>0</td>\n      <td>0</td>\n    </tr>\n    <tr>\n      <th>40477</th>\n      <td>train_40477</td>\n      <td>agriculture clear primary road</td>\n      <td>0</td>\n      <td>1</td>\n      <td>1</td>\n      <td>1</td>\n      <td>0</td>\n      <td>0</td>\n      <td>1</td>\n      <td>0</td>\n      <td>0</td>\n      <td>0</td>\n      <td>0</td>\n      <td>0</td>\n      <td>0</td>\n      <td>0</td>\n      <td>0</td>\n      <td>0</td>\n      <td>0</td>\n    </tr>\n    <tr>\n      <th>40478</th>\n      <td>train_40478</td>\n      <td>agriculture cultivation partly_cloudy primary</td>\n      <td>0</td>\n      <td>1</td>\n      <td>1</td>\n      <td>0</td>\n      <td>0</td>\n      <td>0</td>\n      <td>0</td>\n      <td>1</td>\n      <td>0</td>\n      <td>0</td>\n      <td>1</td>\n      <td>0</td>\n      <td>0</td>\n      <td>0</td>\n      <td>0</td>\n      <td>0</td>\n      <td>0</td>\n    </tr>\n  </tbody>\n</table>\n<p>40479 rows × 19 columns</p>\n</div>"
     },
     "execution_count": 8,
     "metadata": {},
     "output_type": "execute_result"
    }
   ],
   "source": [
    "for tag in tags:\n",
    "    a = [(tag in i.split()) for i in labels_dt['tags']]\n",
    "    new_col = np.zeros(len(a),dtype=int)+a\n",
    "    #print(new_col.shape)\n",
    "    labels_dt[tag]=new_col\n",
    "labels_dt"
   ],
   "metadata": {
    "collapsed": false
   }
  },
  {
   "cell_type": "code",
   "execution_count": 47,
   "outputs": [
    {
     "data": {
      "text/plain": "clear primary                                               13636\npartly_cloudy primary                                        3630\ncloudy                                                       2089\nclear primary water                                          1850\nagriculture clear primary road                               1680\n                                                            ...  \nagriculture clear cultivation cultivation road                  1\nartisinal_mine bare_ground partly_cloudy primary road           1\nagriculture clear conventional_mine primary road                1\nclear conventional_mine habitation road                         1\nagriculture partly_cloudy primary road conventional_mine        1\nName: tags, Length: 449, dtype: int64"
     },
     "execution_count": 47,
     "metadata": {},
     "output_type": "execute_result"
    }
   ],
   "source": [
    "tagg = labels_dt.tags.value_counts()\n",
    "set_choice = np.zeros([len(tagg),4])\n",
    "tagg"
   ],
   "metadata": {
    "collapsed": false
   }
  },
  {
   "cell_type": "code",
   "execution_count": 50,
   "outputs": [],
   "source": [
    "for t in range(len(tagg)):\n",
    "    number = tagg[t]\n",
    "    set_choice[t,0] = number\n",
    "    set_choice[t,1] = number//(1/0.6)\n",
    "    set_choice[t,2] = (number - set_choice[t,1])//2\n",
    "    set_choice[t,3] = number - set_choice[t,1] - set_choice[t,2]\n"
   ],
   "metadata": {
    "collapsed": false
   }
  },
  {
   "cell_type": "code",
   "execution_count": 51,
   "outputs": [
    {
     "data": {
      "text/plain": "array([[1.3636e+04, 8.1810e+03, 2.7270e+03, 2.7280e+03],\n       [3.6300e+03, 2.1770e+03, 7.2600e+02, 7.2700e+02],\n       [2.0890e+03, 1.2530e+03, 4.1800e+02, 4.1800e+02],\n       ...,\n       [1.0000e+00, 0.0000e+00, 0.0000e+00, 1.0000e+00],\n       [1.0000e+00, 0.0000e+00, 0.0000e+00, 1.0000e+00],\n       [1.0000e+00, 0.0000e+00, 0.0000e+00, 1.0000e+00]])"
     },
     "execution_count": 51,
     "metadata": {},
     "output_type": "execute_result"
    }
   ],
   "source": [
    "set_choice"
   ],
   "metadata": {
    "collapsed": false
   }
  },
  {
   "cell_type": "code",
   "execution_count": 89,
   "outputs": [
    {
     "data": {
      "text/plain": "array([11640,  4801, 12189, ...,  2251, 10497, 11165])"
     },
     "execution_count": 89,
     "metadata": {},
     "output_type": "execute_result"
    }
   ],
   "source": [
    "a = np.arange(13636) # Example array.\n",
    "np.random.shuffle(a)\n",
    "\n",
    "p1 = a[:8181]\n",
    "p2 = a[8181:8181+2727]\n",
    "p3 = a[8181+2727:]\n",
    "p2"
   ],
   "metadata": {
    "collapsed": false
   }
  },
  {
   "cell_type": "code",
   "execution_count": 90,
   "outputs": [
    {
     "name": "stderr",
     "output_type": "stream",
     "text": [
      "C:\\Users\\Shady\\anaconda3\\envs\\IPEO\\lib\\site-packages\\ipykernel_launcher.py:7: UserWarning: you are shuffling a 'PandasArray' object which is not a subclass of 'Sequence'; `shuffle` is not guaranteed to behave correctly. E.g., non-numpy array/tensor objects with view semantics may contain duplicates after shuffling.\n",
      "  import sys\n"
     ]
    }
   ],
   "source": [
    "train = np.array([])\n",
    "validation = np.array([])\n",
    "test = np.array([])\n",
    "\n",
    "for i in range(len(tagg)):\n",
    "    a = labels_dt[labels_dt.tags==tagg.index[i]].index.array\n",
    "    np.random.shuffle(a)\n",
    "    p1 = a[:int(set_choice[i,1])]\n",
    "    p2 = a[int(set_choice[i,1]):int(set_choice[i,1])+int(set_choice[i,2])]\n",
    "    p3 = a[int(set_choice[i,1])+int(set_choice[i,2]):]\n",
    "    train = np.append(train,p1)\n",
    "    validation = np.append(validation,p2)\n",
    "    test = np.append(test,p3)"
   ],
   "metadata": {
    "collapsed": false
   }
  },
  {
   "cell_type": "code",
   "execution_count": 91,
   "outputs": [],
   "source": [
    "train_df = labels_dt.iloc[train]\n",
    "validation_df = labels_dt.iloc[validation]\n",
    "test_df = labels_dt.iloc[test]"
   ],
   "metadata": {
    "collapsed": false
   }
  },
  {
   "cell_type": "code",
   "execution_count": 92,
   "outputs": [],
   "source": [
    "repartition = np.zeros([len(tags),3])\n",
    "for t in range(len(tags)):\n",
    "    repartition[t,0] = (train_df[tags[t]]).sum()\n",
    "    repartition[t,1] = (validation_df[tags[t]]).sum()\n",
    "    repartition[t,2] = (test_df[tags[t]]).sum()"
   ],
   "metadata": {
    "collapsed": false
   }
  },
  {
   "cell_type": "code",
   "execution_count": 95,
   "outputs": [
    {
     "data": {
      "text/plain": "        image_name                                               tags  haze  \\\n1784    train_1784                                      clear primary     0   \n4591    train_4591                                      clear primary     0   \n1513    train_1513                                      clear primary     0   \n23368  train_23368                                      clear primary     0   \n20852  train_20852                                      clear primary     0   \n...            ...                                                ...   ...   \n38272  train_38272     agriculture bare_ground clear cultivation road     0   \n7967    train_7967  agriculture partly_cloudy primary road slash_burn     0   \n33594  train_33594  agriculture clear conventional_mine habitation...     0   \n3137    train_3137  bare_ground clear cultivation habitation prima...     0   \n11378  train_11378                      habitation partly_cloudy road     0   \n\n       primary  agriculture  clear  water  habitation  road  cultivation  \\\n1784         1            0      1      0           0     0            0   \n4591         1            0      1      0           0     0            0   \n1513         1            0      1      0           0     0            0   \n23368        1            0      1      0           0     0            0   \n20852        1            0      1      0           0     0            0   \n...        ...          ...    ...    ...         ...   ...          ...   \n38272        0            1      1      0           0     1            1   \n7967         1            1      0      0           0     1            0   \n33594        0            1      1      0           1     1            0   \n3137         1            0      1      1           1     1            1   \n11378        0            0      0      0           1     1            0   \n\n       slash_burn  cloudy  partly_cloudy  conventional_mine  bare_ground  \\\n1784            0       0              0                  0            0   \n4591            0       0              0                  0            0   \n1513            0       0              0                  0            0   \n23368           0       0              0                  0            0   \n20852           0       0              0                  0            0   \n...           ...     ...            ...                ...          ...   \n38272           0       0              0                  0            1   \n7967            1       0              1                  0            0   \n33594           0       0              0                  1            0   \n3137            0       0              0                  0            1   \n11378           0       0              1                  0            0   \n\n       artisinal_mine  blooming  selective_logging  blow_down  \n1784                0         0                  0          0  \n4591                0         0                  0          0  \n1513                0         0                  0          0  \n23368               0         0                  0          0  \n20852               0         0                  0          0  \n...               ...       ...                ...        ...  \n38272               0         0                  0          0  \n7967                0         0                  0          0  \n33594               0         0                  0          0  \n3137                0         0                  0          0  \n11378               0         0                  0          0  \n\n[24035 rows x 19 columns]",
      "text/html": "<div>\n<style scoped>\n    .dataframe tbody tr th:only-of-type {\n        vertical-align: middle;\n    }\n\n    .dataframe tbody tr th {\n        vertical-align: top;\n    }\n\n    .dataframe thead th {\n        text-align: right;\n    }\n</style>\n<table border=\"1\" class=\"dataframe\">\n  <thead>\n    <tr style=\"text-align: right;\">\n      <th></th>\n      <th>image_name</th>\n      <th>tags</th>\n      <th>haze</th>\n      <th>primary</th>\n      <th>agriculture</th>\n      <th>clear</th>\n      <th>water</th>\n      <th>habitation</th>\n      <th>road</th>\n      <th>cultivation</th>\n      <th>slash_burn</th>\n      <th>cloudy</th>\n      <th>partly_cloudy</th>\n      <th>conventional_mine</th>\n      <th>bare_ground</th>\n      <th>artisinal_mine</th>\n      <th>blooming</th>\n      <th>selective_logging</th>\n      <th>blow_down</th>\n    </tr>\n  </thead>\n  <tbody>\n    <tr>\n      <th>1784</th>\n      <td>train_1784</td>\n      <td>clear primary</td>\n      <td>0</td>\n      <td>1</td>\n      <td>0</td>\n      <td>1</td>\n      <td>0</td>\n      <td>0</td>\n      <td>0</td>\n      <td>0</td>\n      <td>0</td>\n      <td>0</td>\n      <td>0</td>\n      <td>0</td>\n      <td>0</td>\n      <td>0</td>\n      <td>0</td>\n      <td>0</td>\n      <td>0</td>\n    </tr>\n    <tr>\n      <th>4591</th>\n      <td>train_4591</td>\n      <td>clear primary</td>\n      <td>0</td>\n      <td>1</td>\n      <td>0</td>\n      <td>1</td>\n      <td>0</td>\n      <td>0</td>\n      <td>0</td>\n      <td>0</td>\n      <td>0</td>\n      <td>0</td>\n      <td>0</td>\n      <td>0</td>\n      <td>0</td>\n      <td>0</td>\n      <td>0</td>\n      <td>0</td>\n      <td>0</td>\n    </tr>\n    <tr>\n      <th>1513</th>\n      <td>train_1513</td>\n      <td>clear primary</td>\n      <td>0</td>\n      <td>1</td>\n      <td>0</td>\n      <td>1</td>\n      <td>0</td>\n      <td>0</td>\n      <td>0</td>\n      <td>0</td>\n      <td>0</td>\n      <td>0</td>\n      <td>0</td>\n      <td>0</td>\n      <td>0</td>\n      <td>0</td>\n      <td>0</td>\n      <td>0</td>\n      <td>0</td>\n    </tr>\n    <tr>\n      <th>23368</th>\n      <td>train_23368</td>\n      <td>clear primary</td>\n      <td>0</td>\n      <td>1</td>\n      <td>0</td>\n      <td>1</td>\n      <td>0</td>\n      <td>0</td>\n      <td>0</td>\n      <td>0</td>\n      <td>0</td>\n      <td>0</td>\n      <td>0</td>\n      <td>0</td>\n      <td>0</td>\n      <td>0</td>\n      <td>0</td>\n      <td>0</td>\n      <td>0</td>\n    </tr>\n    <tr>\n      <th>20852</th>\n      <td>train_20852</td>\n      <td>clear primary</td>\n      <td>0</td>\n      <td>1</td>\n      <td>0</td>\n      <td>1</td>\n      <td>0</td>\n      <td>0</td>\n      <td>0</td>\n      <td>0</td>\n      <td>0</td>\n      <td>0</td>\n      <td>0</td>\n      <td>0</td>\n      <td>0</td>\n      <td>0</td>\n      <td>0</td>\n      <td>0</td>\n      <td>0</td>\n    </tr>\n    <tr>\n      <th>...</th>\n      <td>...</td>\n      <td>...</td>\n      <td>...</td>\n      <td>...</td>\n      <td>...</td>\n      <td>...</td>\n      <td>...</td>\n      <td>...</td>\n      <td>...</td>\n      <td>...</td>\n      <td>...</td>\n      <td>...</td>\n      <td>...</td>\n      <td>...</td>\n      <td>...</td>\n      <td>...</td>\n      <td>...</td>\n      <td>...</td>\n      <td>...</td>\n    </tr>\n    <tr>\n      <th>38272</th>\n      <td>train_38272</td>\n      <td>agriculture bare_ground clear cultivation road</td>\n      <td>0</td>\n      <td>0</td>\n      <td>1</td>\n      <td>1</td>\n      <td>0</td>\n      <td>0</td>\n      <td>1</td>\n      <td>1</td>\n      <td>0</td>\n      <td>0</td>\n      <td>0</td>\n      <td>0</td>\n      <td>1</td>\n      <td>0</td>\n      <td>0</td>\n      <td>0</td>\n      <td>0</td>\n    </tr>\n    <tr>\n      <th>7967</th>\n      <td>train_7967</td>\n      <td>agriculture partly_cloudy primary road slash_burn</td>\n      <td>0</td>\n      <td>1</td>\n      <td>1</td>\n      <td>0</td>\n      <td>0</td>\n      <td>0</td>\n      <td>1</td>\n      <td>0</td>\n      <td>1</td>\n      <td>0</td>\n      <td>1</td>\n      <td>0</td>\n      <td>0</td>\n      <td>0</td>\n      <td>0</td>\n      <td>0</td>\n      <td>0</td>\n    </tr>\n    <tr>\n      <th>33594</th>\n      <td>train_33594</td>\n      <td>agriculture clear conventional_mine habitation...</td>\n      <td>0</td>\n      <td>0</td>\n      <td>1</td>\n      <td>1</td>\n      <td>0</td>\n      <td>1</td>\n      <td>1</td>\n      <td>0</td>\n      <td>0</td>\n      <td>0</td>\n      <td>0</td>\n      <td>1</td>\n      <td>0</td>\n      <td>0</td>\n      <td>0</td>\n      <td>0</td>\n      <td>0</td>\n    </tr>\n    <tr>\n      <th>3137</th>\n      <td>train_3137</td>\n      <td>bare_ground clear cultivation habitation prima...</td>\n      <td>0</td>\n      <td>1</td>\n      <td>0</td>\n      <td>1</td>\n      <td>1</td>\n      <td>1</td>\n      <td>1</td>\n      <td>1</td>\n      <td>0</td>\n      <td>0</td>\n      <td>0</td>\n      <td>0</td>\n      <td>1</td>\n      <td>0</td>\n      <td>0</td>\n      <td>0</td>\n      <td>0</td>\n    </tr>\n    <tr>\n      <th>11378</th>\n      <td>train_11378</td>\n      <td>habitation partly_cloudy road</td>\n      <td>0</td>\n      <td>0</td>\n      <td>0</td>\n      <td>0</td>\n      <td>0</td>\n      <td>1</td>\n      <td>1</td>\n      <td>0</td>\n      <td>0</td>\n      <td>0</td>\n      <td>1</td>\n      <td>0</td>\n      <td>0</td>\n      <td>0</td>\n      <td>0</td>\n      <td>0</td>\n      <td>0</td>\n    </tr>\n  </tbody>\n</table>\n<p>24035 rows × 19 columns</p>\n</div>"
     },
     "execution_count": 95,
     "metadata": {},
     "output_type": "execute_result"
    }
   ],
   "source": [
    "train_df"
   ],
   "metadata": {
    "collapsed": false
   }
  }
 ],
 "metadata": {
  "kernelspec": {
   "display_name": "Python 3",
   "language": "python",
   "name": "python3"
  },
  "language_info": {
   "codemirror_mode": {
    "name": "ipython",
    "version": 2
   },
   "file_extension": ".py",
   "mimetype": "text/x-python",
   "name": "python",
   "nbconvert_exporter": "python",
   "pygments_lexer": "ipython2",
   "version": "2.7.6"
  }
 },
 "nbformat": 4,
 "nbformat_minor": 0
}
